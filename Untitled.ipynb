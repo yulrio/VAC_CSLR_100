{
 "cells": [
  {
   "cell_type": "code",
   "execution_count": 1,
   "id": "c18591ae-b770-4297-8ab0-224e5b183cba",
   "metadata": {},
   "outputs": [],
   "source": [
    "import pandas as pd"
   ]
  },
  {
   "cell_type": "code",
   "execution_count": 8,
   "id": "65940d48-b3aa-4144-94dc-3fd46e9147bb",
   "metadata": {},
   "outputs": [],
   "source": [
    "dev = pd.read_csv('dataset/phoenix2014/phoenix-2014-multisigner/annotations/manual/dev.corpus.csv' ,sep=\n",
    "                 '|')\n",
    "test = pd.read_csv('dataset/phoenix2014/phoenix-2014-multisigner/annotations/manual/test.corpus.csv' ,sep=\n",
    "                 '|')\n",
    "train = pd.read_csv('dataset/phoenix2014/phoenix-2014-multisigner/annotations/manual/train.corpus.csv', sep=\n",
    "                 '|')"
   ]
  },
  {
   "cell_type": "code",
   "execution_count": 9,
   "id": "5914e57d-a02c-4b17-8be8-2c4dc895228b",
   "metadata": {},
   "outputs": [
    {
     "data": {
      "text/html": [
       "<div>\n",
       "<style scoped>\n",
       "    .dataframe tbody tr th:only-of-type {\n",
       "        vertical-align: middle;\n",
       "    }\n",
       "\n",
       "    .dataframe tbody tr th {\n",
       "        vertical-align: top;\n",
       "    }\n",
       "\n",
       "    .dataframe thead th {\n",
       "        text-align: right;\n",
       "    }\n",
       "</style>\n",
       "<table border=\"1\" class=\"dataframe\">\n",
       "  <thead>\n",
       "    <tr style=\"text-align: right;\">\n",
       "      <th></th>\n",
       "      <th>id</th>\n",
       "      <th>folder</th>\n",
       "      <th>signer</th>\n",
       "      <th>annotation</th>\n",
       "    </tr>\n",
       "  </thead>\n",
       "  <tbody>\n",
       "    <tr>\n",
       "      <th>0</th>\n",
       "      <td>01April_2010_Thursday_heute_default-1</td>\n",
       "      <td>01April_2010_Thursday_heute_default-1/1/*.png</td>\n",
       "      <td>Signer04</td>\n",
       "      <td>ICH OSTERN WETTER ZUFRIEDEN MITTAG TEMPERATUR ...</td>\n",
       "    </tr>\n",
       "    <tr>\n",
       "      <th>1</th>\n",
       "      <td>01August_2011_Monday_heute_default-6</td>\n",
       "      <td>01August_2011_Monday_heute_default-6/1/*.png</td>\n",
       "      <td>Signer07</td>\n",
       "      <td>VIELLEICHT THUERINGEN REGION AUCH BISSCHEN WOL...</td>\n",
       "    </tr>\n",
       "    <tr>\n",
       "      <th>2</th>\n",
       "      <td>01December_2011_Thursday_heute_default-3</td>\n",
       "      <td>01December_2011_Thursday_heute_default-3/1/*.png</td>\n",
       "      <td>Signer05</td>\n",
       "      <td>STUNDE AUCH MEISTENS REGEN ERST WEST DANN REGI...</td>\n",
       "    </tr>\n",
       "    <tr>\n",
       "      <th>3</th>\n",
       "      <td>01December_2011_Thursday_heute_default-5</td>\n",
       "      <td>01December_2011_Thursday_heute_default-5/1/*.png</td>\n",
       "      <td>Signer05</td>\n",
       "      <td>UND TAG BLEIBEN KUEHL SECHS GRAD BAYERN IX REG...</td>\n",
       "    </tr>\n",
       "    <tr>\n",
       "      <th>4</th>\n",
       "      <td>01February_2011_Tuesday_heute_default-6</td>\n",
       "      <td>01February_2011_Tuesday_heute_default-6/1/*.png</td>\n",
       "      <td>Signer08</td>\n",
       "      <td>MORGEN NORD MEHR MILD WEST SUEDOST BLEIBEN UNT...</td>\n",
       "    </tr>\n",
       "  </tbody>\n",
       "</table>\n",
       "</div>"
      ],
      "text/plain": [
       "                                         id  \\\n",
       "0     01April_2010_Thursday_heute_default-1   \n",
       "1      01August_2011_Monday_heute_default-6   \n",
       "2  01December_2011_Thursday_heute_default-3   \n",
       "3  01December_2011_Thursday_heute_default-5   \n",
       "4   01February_2011_Tuesday_heute_default-6   \n",
       "\n",
       "                                             folder    signer  \\\n",
       "0     01April_2010_Thursday_heute_default-1/1/*.png  Signer04   \n",
       "1      01August_2011_Monday_heute_default-6/1/*.png  Signer07   \n",
       "2  01December_2011_Thursday_heute_default-3/1/*.png  Signer05   \n",
       "3  01December_2011_Thursday_heute_default-5/1/*.png  Signer05   \n",
       "4   01February_2011_Tuesday_heute_default-6/1/*.png  Signer08   \n",
       "\n",
       "                                          annotation  \n",
       "0  ICH OSTERN WETTER ZUFRIEDEN MITTAG TEMPERATUR ...  \n",
       "1  VIELLEICHT THUERINGEN REGION AUCH BISSCHEN WOL...  \n",
       "2  STUNDE AUCH MEISTENS REGEN ERST WEST DANN REGI...  \n",
       "3  UND TAG BLEIBEN KUEHL SECHS GRAD BAYERN IX REG...  \n",
       "4  MORGEN NORD MEHR MILD WEST SUEDOST BLEIBEN UNT...  "
      ]
     },
     "execution_count": 9,
     "metadata": {},
     "output_type": "execute_result"
    }
   ],
   "source": [
    "dev.head()"
   ]
  },
  {
   "cell_type": "code",
   "execution_count": 13,
   "id": "705b8d9b-47c2-433d-b7c9-e80efe27801c",
   "metadata": {},
   "outputs": [],
   "source": [
    "dev_annotation = ' '.join(dev['annotation'])\n",
    "test_annotation = ' '.join(test['annotation'])\n",
    "train_annotation = ' '.join(train['annotation'])"
   ]
  },
  {
   "cell_type": "code",
   "execution_count": 14,
   "id": "5942da0b-bbb1-4fe0-a4aa-0859aed712c5",
   "metadata": {},
   "outputs": [],
   "source": [
    "annotation = dev_annotation + test_annotation + train_annotation"
   ]
  },
  {
   "cell_type": "code",
   "execution_count": 15,
   "id": "60b155b6-6e4a-4109-a3b1-dd8a76836f8d",
   "metadata": {},
   "outputs": [
    {
     "data": {
      "text/plain": [
       "'ICH OSTERN WETTER ZUFRIEDEN MITTAG TEMPERATUR  SUED WARM MEIN NICHT VIELLEICHT THUERINGEN REGION AUCH BISSCHEN WOLKE BISSCHEN STARK WOLKE ABER SUED MAINZ FLUSS SUEDWEST VIEL NICHT-KEIN WOLKE VIEL SONNE STUNDE AUCH MEISTENS REGEN ERST WEST DANN REGION SUED BLEIBEN TROCKEN UND TAG BLEIBEN KUEHL SECHS GRAD BAYERN IX REGION AUCH S+H IX AUCH ABER MORGEN NORD MEHR MILD WEST SUEDOST BLEIBEN UNTER VIER NULL GRAD __OFF__ __ON__ SUED VERAENDERN KAUM WIE HEUTE SONNE ODER NEBEL IN-KOMMEND SCHNEE FREITAG SAMSTAG NORD WIND REGEN MORGEN NORD KAUM GEWITTER REGION SONNE MITTE REGION SUED MEHR DURCHEINANDER WOLKE UEBERWIEGEND GEWITTER NORD SONNE WOLKE WECHSELHAFT BISSCHEN SCHAUER SUEDWEST BESONDERS SONNE MOEGLICH HEUTE NACHT DREIZEHN NORD VIER BERG AM-TAG DREIZEHN OSTABER FREUEN  MORGEN SONNE SELTEN REGEN SAMSTAG WECHSELHAFT BESONDERS FREUNDLICH NORDOST BISSCHEN BEREICH SONNTAG REGEN TEIL GEWITTER SUEDOST DURCH REGEN __ON__ JETZT WETTER WIE-AUSSEHEN MORGEN SAMSTAG ZWEITE APRIL __OFF__ __ON__ ZEIGEN-BILDSCHIRM __OFF__ __ON__ FLUSS NORDOST HEUTE ABEND NOCH WOLKE KOENNEN REGEN SUEDOST __ON__ MONTAG UEBERALL WECHSELHAFT ABER KUEHL AB DIENSTAG IN-KOMMEND LANGSAM WIEDER ZURUECK FREUNDLICH WARM __OFF__ DAZWISCHEN REGION MILD NEUN BIS VIERZEHN GRAD TAG AUCH REGEN WIND  MAESSIG FRISCH STARK STURM BERG SCHWER STURM SUEDOST SCHWACH WIND DONNERSTAG KOMMEN REGEN KOENNEN GLATT SUED FREUNDLICH TROCKEN __OFF____ON__ LIEB ZUSCHAUER ABEND WINTER GESTERN loc-NORD SCHOTTLAND loc-REGION UEBERSCHWEMMUNG AMERIKA IX loc-WEST WARM loc-WEST BLEIBEN KUEHL KUEHL KUEHL IN-KOMMEND NACHT MINUS loc-MINUS-PLUSPLUS TEIL MINUS FUENF ALPEN KUESTE NULL MORGEN TEMPERATUR ACHT BIS DREIZEHN MAXIMAL DREIZEHN AUCH SAMSTAG WEST FREUNDLICH IX TROCKEN WEST REGEN REGEN SONNTAG SUED SCHNEE DABEI MONTAG __EMOTION__ SCHAUER KOMMEN DANN FREUNDLICH KLAR MONTAG MEHR MEHR WARM AB DIENSTAG JETZT WUENSCHEN SCHOEN ABEND __OFF__ __ON__ WETTER WIE-AUSSEHEN MORGEN FREITAG ZWEITE APRIL __OFF__ HEUTE NACHT OST REGEN loc-NORD __EMOTION__ REGEN-PLUSPLUS MORGEN UEBERWIEGEND FREUNDLICH IX SCHAUER ABEND WEST loc-SUED BISSCHEN REGEN REGEN HIER WIND SCHWACH MAESSIG MAESSIG loc-WEST NORD WIND __OFF__ __ON__ HEUTE NACHT FLUSS DREI MINUS SECHS ALPEN VORSICHT GLATT MORGEN SIEBEN loc-LAND VIERZEHN FLUSS OSTERN MONTAG AUCH REGEN REGEN HOCH __EMOTION__ SCHNEE __OFF__ __ON__ WOCHENENDE IX HOCH DRUCK DAZU WARM cl-KOMMEN VIEL SONNE UND AEHNLICH SOMMER TEMPERATUR TEMPERATUR __OFF__ __ON__ REGION TIEF __LEFTHAND__ SONNTAG cl-KOMMEN REGEN REGEN UND GEWITTER __OFF__ KLAR IX REGION KOENNEN NEBEL NORDOSTRAUM TAG ANFANG WOLKE WESTRAUM IX EINFACH VERSCHWINDEN MEHR SONNE __OFF__ __ON__ WIND SCHWACH MAESSIG NORD SEE IX KOENNEN FRISCH WEHEN WEHEN WEHEN __OFF__ __ON__ BERG ALLGAEU HEUTE ABEND VIER GRAD FLUSS ELF GRAD __OFF__ __ON__ RUEGEN MORGEN VIERZEHN GRAD FLUSS SOMMER FUENF ZWANZIG BIS SECHS ZWANZIG GRAD __OFF__ __ON__ SONNTAG WEST NORDWESTRAUM WOLKE KOENNEN REGEN REGEN ODER GEWITTER KOENNEN SUEDOSTRAUM DURCHGEHEND SONNE TROCKEN WARM __OFF__ __ON__ GUT ABEND LIEB ZUSCHAUER SOMMER KOENNEN SCHOEN WEST SUEDWESTRAUM SCHON WETTER BESONDERS BLAU HIMMEL WIE MAINZ ZEIGEN-BILDSCHIRM __EMOTION__ KOMMEN ALLE KOMMEN WARM SONNE AUS FRANKREICH cl-KOMMEN SCHON DREISSIG GRAD cl-KOMMEN IN-KOMMEND TAG AUCH BEI-UNS __EMOTION__ AM MITTWOCH WIEDER WARM DRUCK WEST SCHON ANFANG REGEN REGEN GEWITTER GEWITTER ABER HEUTE ABEND RUHIG BISSCHEN NEBEL MORGEN FRUEH BAYERN NIEDERSACHSEN REGION S REGION NORD KUESTE AUCH VIELLEICHT BISSCHEN ABER NACHT ENORM MILD IX MORGEN NEBEL ACH __PU__ NICHT-HABEN SONNE MACHEN NEBEL VERSCHWINDEN DANN NORD DEUTSCH LAND SONNE ABER NORDWESTRAUM MUENSTER LAND BIS IX HESSEN REGION WARM SUEDWESTRAUM SCHON DREISSIG GRAD SCHON MEISTENS REST VIER ZWANZIG GRAD BIS DREI ZWANZIG GRAD BISSCHEN KUEHL MEISTENS NORD KUESTE BISSCHEN KUEHL IX GLEICH DONNERSTAG FREITAG UEBERALL cl-KOMMEN IHR SCHOEN ABEND MACHEN GUT __OFF__ __ON__ ABEND LIEB ZUSCHAUER poss-EUCH DEZEMBER ANFANG REGEN REGEN HEUTE LEUTE NACH-HAUSE NACH-HAUSE NACH-HAUSE NACH-HAUSE DAS-IST-ES __LEFTHAND__ HEUTE VOR MITTAG W IX WEITER REGEN REGEN VIER ZWANZIG STUNDE STUNDE REGION REGEN SAMSTAG DOCH MORGEN ABEND IX IRLAND __LEFTHAND__ __EMOTION__ SONNTAG REGEN REGEN DOCH VERBREITEN VERBREITEN VERBREITEN VERBREITEN BESONDERS BAYERN OST HIMMEL KLAR BISSCHEN NEBEL AUCH FROST NORDWESTRAUM REGION SPAETER SUEDWESTRAUM AUCH OST BISSCHEN MEHR TROCKEN __LEFTHAND__ BIS WALD P O P PFALZ IX __EMOTION__ DANN REGION MILD IX SONNE SONNE REGION STURM __LEFTHAND__ __LEFTHAND__ NORDWESTRAUM WEHEN WEHEN IX IN-KOMMEND IN-KOMMEND __EMOTION__ NUR REGEN BIS MONTAG __EMOTION__ VIEL STURM SCHOEN ABEND poss-EUCH MACHEN GUT poss-EUCH __OFF__ __ON__ JETZT WETTER MORGEN FREITAG ZWEITE DEZEMBER __OFF__ __ON__ IX MEER TIEF NORDWEST WETTER WECHSELHAFT WECHSELHAFT SUEDOSTRAUM __EMOTION__ VORTEIL IX HOCH BELGIEN cl-KOMMEN NACHT BESONDERS NORDRAUM NORDWESTRAUM REGEN REGEN SUED TEIL TEIL KLAR WOLKE NEBEL MEISTENS WOLKE REGEN REGEN SUED cl-KOMMEN __LEFTHAND__ KLAR REGION WAHRSCHEINLICH SCHAUER SCHAUER NACHT __LEFTHAND__ ZEHN BAYERN IX MINUS ZWEI __OFF__ __ON__ TAG NORD NUR FUENF ALLGAEU BERG VOR LAND VIERZEHN __OFF__ __ON__ SAMSTAG WIEDER NEU REGEN __LEFTHAND__ __LEFTHAND__ cl-KOMMEN cl-KOMMEN WIND STURM SONNTAG WECHSELHAFT WECHSELHAFT AUCH TEIL STURM MONTAG OFT OFT STARK WOLKE WOLKE WOLKE TEIL ORT-PLUSPLUS REGEN REGEN REGEN WIND BLEIBEN BLEIBEN __OFF__ __ON__ LIEB ZUSCHAUER GUT ABEND HEUTE NEBEL HOCH NEBEL ZWISCHEN __EMOTION__ RUHIG WETTER ZEIT VORBEI MITTE STURM TIEF cl-KOMMEN cl-KOMMEN LUFT MILD REGION MITTE KOENNEN SCHNEE __OFF__ __ON__ cl-KOMMEN KALT LUFT HEUTE NACHT SUEDRAUM FROST SUEDOSTRAUM MINUS UEBER MINUS ZEHN DREIZEHN GRAD OST KOENNEN SCHNEE IX ANFANG REGEN KOENNEN GLATT NORDWESTRAUM TROCKEN TRUEB NORDWESTRAUM DANN WIEDER REGEN REGEN cl-KOMMEN DONNERSTAG cl-KOMMEN KOENNEN DAZU BERG KOENNEN SCHNEE GLATT DANACH MILD STURM IN-KOMMEND IN-KOMMEND __OFF__ WIE AUSSEHEN SIE KOENNEN MACHEN ANSCHAUEN Z D E TEXT ODER KOENNEN INTERNET SIE SCHAUEN JETZT SCHOEN ABEND poss-EUCH __OFF__ __ON__ JETZT WETTER WIE-AUSSEHEN MORGEN MITTWOCH ZWEITE FEBRUAR ZEIGEN-BILDSCHIRM __OFF__ __ON__ TIEF cl-KOMMEN SCHNEE KALT REGEN GLATT DAZU cl-KOMMEN MILD DARUM AB FREITAG SCHNEE NICHT-MEHR SUED IX FREUNDLICH __OFF__ __ON__ cl-KOMMEN HEUTE NACHT cl-KOMMEN SCHNEE __EMOTION__ REGEN GLATT KOENNEN GLATT __EMOTION__ GEFAHR KOENNEN UNWETTER __PU__ WARNUNG __PU__ __OFF__ __ON__ AUCH MORGEN VIEL WOLKE SPEZIELL __PU__ OST SUEDRAUM SCHNEE UND REGEN REGEN GLATT NACH MITTAG AUFLOESEN AUFLOESEN ABER ABEND cl-KOMMEN REGEN REGEN SUEDRAUM SCHWACH NORDRAUM MAESSIG MAESSIG WEHEN WEHEN KUESTE STURM KOENNEN __OFF__ __ON__ OST SUEDRAUM HEUTE NACHT FROST FROST FROST NORDRAUM EIN GRAD GRAD MINUS PLUS MORGEN FLUSS MINUS FUENF GRAD FLUSS PLUS FUENF GRAD __OFF__ HIER WETTER WIE-AUSSEHEN MORGEN DONNERSTAG ZWEITE JULI __ON__ IM-VERLAUF NACHT TEIL TEIL UEBERWIEGEND REGEN-PLUSPLUS GEWITTER IX __EMOTION__ loc-REGION WIND RUHIG RUHIG KLAR KLAR TEIL TEIL AUCH NEBEL DANN MOEGLICH WEHEN-PLUSPLUS __EMOTION__ SCHWACH SCHWACH WEHEN-PLUSPLUS HEUTE NACHT WARM VIERZEHN MAXIMAL NEUNZEHN loc-ALPEN ZWOELF WENN IX WEHEN ANGENEHM DREI ZWANZIG GRAD loc-SUEDOST MAXIMAL ZWEIDREISSIG __OFF__ __ON__ FREITAG __EMOTION__ DASSELBE __PU__ SAMSTAG SONNTAG ALLE TIEF SCHAUER NEU WOLKE GEWITTER ICH SONNTAG BISSCHEN KUEHL __OFF__ __ON__ JETZT WETTER MORGEN FREITAG ZWEITE JULI WIE-AUSSEHEN ZEIGEN __OFF__ __ON__ WEST loc-WEST HOCH KOMMEN HEISS LUFT KOMMEN SAMSTAG UNGEFAEHR SECHS DREISSIG GRAD HOCH KOMMEN DANN KOENNEN GEWITTER STURM REGEN REGEN KOENNEN __ON__ __ON__ REGEN REGEN SCHON VORBEI DANN TROCKEN KLAR STERN KOENNEN SEHEN ODER LOCKER WOLKE TAG VIEL SONNE IX WOLKE SCHWARZ WALD ALPEN KOENNEN GEWITTER GEWITTER GRUND HEISS __OFF__ __ON__ loc-NORD WIND SCHWACH loc-SUEDOST SCHWACH __ON__ __ON__ NACHT NEUNZEHN BIS ZWOELF GRAD TAG SECHS ZWANZIG loc-NORD BIS FUENF DREISSIG FLUSS __OFF__ SAMSTAG __EMOTION__ SONNE AB NACH MITTAG loc-WEST KOENNEN REGEN REGEN GEWITTER WIE IX REGEN REGEN KOENNEN __OFF__ MONTAG SONNE WOLKE WECHSELHAFT KOENNEN GEWITTER __OFF__ __ON__ JETZT WETTER WIE-AUSSEHEN MORGEN SAMSTAG ZWEITE JULI __OFF__ __ON__ TIEF cl-KOMMEN BEDEUTEN MITTE EUROPA poss-BEI-UNS EINFLUSS EINFLUSS NORD WEHEN KUEHL TIEF VORBEI REGEN cl-KOMMEN IX SONNTAG MEHR WARM NACHT BISSCHEN SCHAUER GEWITTER ABER SPAETER AUFLOESEN NORDOST __EMOTION__ WOLKE IX REGEN REGEN NORD KUESTE LANG REGEN REGEN REGEN REGEN WIND MAESSIG WEHEN WEHEN MEER REGION STURM MOEGLICH NORDRAUM BISSCHEN GEWITTER GEWITTER MEISTENS FREUNDLICH SUEDWESTRAUM MONTAG NORDOSTRAUM VIEL WOLKE REGEN GEWITTER SUEDWESTRAUM MEHR FREUNDLICH DIENSTAG SONNE WOLKE SCHAUER GEWITTER GEMISCHT __OFF__ __ON__ OST DEUTSCH LAND NOCH CHAOS TIEF KOMMEN BIS SPAETESTEN DONNERSTAG BLEIBEN REGEN-PLUSPLUS HEUTE NACHT loc-REGION loc-REGEN-PLUSPLUS loc-SUED WEST BISSCHEN REGEN loc-NORDWEST KLAR STERN KOENNEN SEHEN MORGEN WEITER REGEN REGEN loc-REGION-PLUSPLUS BISSCHEN VERAENDERN NORD OST SEE MEHR TROCKEN __EMOTION__ loc-REGION loc-REGION REGEN-PLUSPLUS loc-ALPEN __OFF__ __ON__ AUCH STURM GEFAHR loc-SUEDWEST BISSCHEN SCHAUER SCHAUER loc-NORDWEST FREUNDLICH SONNE __OFF__ __ON__ DONNERSTAG SUED DANN WECHSELHAFT AB FREITAG loc-REGION BESSER __PU__ __OFF__ __ON__ SONNE __PU__ WARM ENDLICH WIRKLICH SOMMER KOMMEN SCHOEN ABEND TSCHUESS __OFF__ __ON__ MITTE EUROPA TIEF KOMMEN KOMMEN REGEN-PLUSPLUS BESONDERS DEUTSCH LAND loc-SUED OST BIS-JETZT DONNERSTAG KOENNEN REGEN-PLUSPLUS ENORM __OFF__ __ON__ GLEICH ZEIT WEST KOMMEN HOCH KOMMEN __OFF__ __ON__ TAG loc-SUEDOST REGEN-PLUSPLUS KLAR REGEN-PLUSPLUS DANN HERZ MEHR KOMMEN KOMMEN KOENNEN __OFF__ __ON__ TAG ZWEIZWANZIG loc-REGION ZEHN ACHT REGEN-PLUSPLUS __OFF__ FREITAG IX VIEL SONNE NUR ALPEN BISSCHEN REGEN REGEN SAMSTAG VIEL SONNE __OFF__'"
      ]
     },
     "execution_count": 15,
     "metadata": {},
     "output_type": "execute_result"
    }
   ],
   "source": [
    "annotation"
   ]
  },
  {
   "cell_type": "code",
   "execution_count": 16,
   "id": "06f0ef3f-7dd6-4d6f-b484-ce534fcf93c1",
   "metadata": {},
   "outputs": [],
   "source": [
    "from collections import Counter"
   ]
  },
  {
   "cell_type": "code",
   "execution_count": 17,
   "id": "82e2871b-825d-40fa-b6b8-d79f86e95cde",
   "metadata": {},
   "outputs": [
    {
     "name": "stdout",
     "output_type": "stream",
     "text": [
      "Jumlah kata unik: 9\n",
      "Frekuensi kata: Counter({'hello': 2, 'world.': 1, 'everyone.': 1, 'welcome': 1, 'to': 1, 'the': 1, 'world': 1, 'of': 1, 'programming.': 1})\n"
     ]
    }
   ],
   "source": [
    "# Contoh kumpulan kalimat\n",
    "text = \"hello world. hello everyone. welcome to the world of programming.\"\n",
    "\n",
    "# Menghitung kata dan frekuensinya\n",
    "word_counts = Counter(word for word in text.lower().split())\n",
    "unique_word_count = len(word_counts)\n",
    "\n",
    "print(\"Jumlah kata unik:\", unique_word_count)\n",
    "print(\"Frekuensi kata:\", word_counts)"
   ]
  },
  {
   "cell_type": "code",
   "execution_count": null,
   "id": "f677484e-9204-4bd9-b211-00652559ac9b",
   "metadata": {},
   "outputs": [],
   "source": []
  }
 ],
 "metadata": {
  "kernelspec": {
   "display_name": "Python 3 (ipykernel)",
   "language": "python",
   "name": "python3"
  },
  "language_info": {
   "codemirror_mode": {
    "name": "ipython",
    "version": 3
   },
   "file_extension": ".py",
   "mimetype": "text/x-python",
   "name": "python",
   "nbconvert_exporter": "python",
   "pygments_lexer": "ipython3",
   "version": "3.12.0"
  }
 },
 "nbformat": 4,
 "nbformat_minor": 5
}
