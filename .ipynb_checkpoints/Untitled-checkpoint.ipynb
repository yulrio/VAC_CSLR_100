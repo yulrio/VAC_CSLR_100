{
 "cells": [
  {
   "cell_type": "code",
   "execution_count": 1,
   "id": "c18591ae-b770-4297-8ab0-224e5b183cba",
   "metadata": {},
   "outputs": [],
   "source": [
    "import pandas as pd"
   ]
  },
  {
   "cell_type": "code",
   "execution_count": 6,
   "id": "65940d48-b3aa-4144-94dc-3fd46e9147bb",
   "metadata": {},
   "outputs": [],
   "source": [
    "dev = pd.read_csv('dataset/phoenix2014/phoenix-2014-multisigner/annotations/manual/dev.corpus.csv' ,sep=\n",
    "                 '|')\n",
    "test = pd.read_csv('dataset/phoenix2014/phoenix-2014-multisigner/annotations/manual/test.corpus.csv' ,sep=\n",
    "                 '|')\n",
    "train = pd.read_csv('dataset/phoenix2014/phoenix-2014-multisigner/annotations/manual/train.corpus.csv', sep=\n",
    "                 '|')"
   ]
  },
  {
   "cell_type": "code",
   "execution_count": 7,
   "id": "5914e57d-a02c-4b17-8be8-2c4dc895228b",
   "metadata": {},
   "outputs": [
    {
     "data": {
      "text/html": [
       "<div>\n",
       "<style scoped>\n",
       "    .dataframe tbody tr th:only-of-type {\n",
       "        vertical-align: middle;\n",
       "    }\n",
       "\n",
       "    .dataframe tbody tr th {\n",
       "        vertical-align: top;\n",
       "    }\n",
       "\n",
       "    .dataframe thead th {\n",
       "        text-align: right;\n",
       "    }\n",
       "</style>\n",
       "<table border=\"1\" class=\"dataframe\">\n",
       "  <thead>\n",
       "    <tr style=\"text-align: right;\">\n",
       "      <th></th>\n",
       "      <th>id</th>\n",
       "      <th>folder</th>\n",
       "      <th>signer</th>\n",
       "      <th>annotation</th>\n",
       "    </tr>\n",
       "  </thead>\n",
       "  <tbody>\n",
       "    <tr>\n",
       "      <th>0</th>\n",
       "      <td>01April_2010_Thursday_heute_default-1</td>\n",
       "      <td>01April_2010_Thursday_heute_default-1/1/*.png</td>\n",
       "      <td>Signer04</td>\n",
       "      <td>ICH OSTERN WETTER ZUFRIEDEN MITTAG TEMPERATUR ...</td>\n",
       "    </tr>\n",
       "    <tr>\n",
       "      <th>1</th>\n",
       "      <td>01August_2011_Monday_heute_default-6</td>\n",
       "      <td>01August_2011_Monday_heute_default-6/1/*.png</td>\n",
       "      <td>Signer07</td>\n",
       "      <td>VIELLEICHT THUERINGEN REGION AUCH BISSCHEN WOL...</td>\n",
       "    </tr>\n",
       "    <tr>\n",
       "      <th>2</th>\n",
       "      <td>01December_2011_Thursday_heute_default-3</td>\n",
       "      <td>01December_2011_Thursday_heute_default-3/1/*.png</td>\n",
       "      <td>Signer05</td>\n",
       "      <td>STUNDE AUCH MEISTENS REGEN ERST WEST DANN REGI...</td>\n",
       "    </tr>\n",
       "    <tr>\n",
       "      <th>3</th>\n",
       "      <td>01December_2011_Thursday_heute_default-5</td>\n",
       "      <td>01December_2011_Thursday_heute_default-5/1/*.png</td>\n",
       "      <td>Signer05</td>\n",
       "      <td>UND TAG BLEIBEN KUEHL SECHS GRAD BAYERN IX REG...</td>\n",
       "    </tr>\n",
       "    <tr>\n",
       "      <th>4</th>\n",
       "      <td>01February_2011_Tuesday_heute_default-6</td>\n",
       "      <td>01February_2011_Tuesday_heute_default-6/1/*.png</td>\n",
       "      <td>Signer08</td>\n",
       "      <td>MORGEN NORD MEHR MILD WEST SUEDOST BLEIBEN UNT...</td>\n",
       "    </tr>\n",
       "  </tbody>\n",
       "</table>\n",
       "</div>"
      ],
      "text/plain": [
       "                                         id  \\\n",
       "0     01April_2010_Thursday_heute_default-1   \n",
       "1      01August_2011_Monday_heute_default-6   \n",
       "2  01December_2011_Thursday_heute_default-3   \n",
       "3  01December_2011_Thursday_heute_default-5   \n",
       "4   01February_2011_Tuesday_heute_default-6   \n",
       "\n",
       "                                             folder    signer  \\\n",
       "0     01April_2010_Thursday_heute_default-1/1/*.png  Signer04   \n",
       "1      01August_2011_Monday_heute_default-6/1/*.png  Signer07   \n",
       "2  01December_2011_Thursday_heute_default-3/1/*.png  Signer05   \n",
       "3  01December_2011_Thursday_heute_default-5/1/*.png  Signer05   \n",
       "4   01February_2011_Tuesday_heute_default-6/1/*.png  Signer08   \n",
       "\n",
       "                                          annotation  \n",
       "0  ICH OSTERN WETTER ZUFRIEDEN MITTAG TEMPERATUR ...  \n",
       "1  VIELLEICHT THUERINGEN REGION AUCH BISSCHEN WOL...  \n",
       "2  STUNDE AUCH MEISTENS REGEN ERST WEST DANN REGI...  \n",
       "3  UND TAG BLEIBEN KUEHL SECHS GRAD BAYERN IX REG...  \n",
       "4  MORGEN NORD MEHR MILD WEST SUEDOST BLEIBEN UNT...  "
      ]
     },
     "execution_count": 7,
     "metadata": {},
     "output_type": "execute_result"
    }
   ],
   "source": [
    "dev.head()"
   ]
  },
  {
   "cell_type": "code",
   "execution_count": null,
   "id": "705b8d9b-47c2-433d-b7c9-e80efe27801c",
   "metadata": {},
   "outputs": [],
   "source": []
  }
 ],
 "metadata": {
  "kernelspec": {
   "display_name": "Python 3 (ipykernel)",
   "language": "python",
   "name": "python3"
  },
  "language_info": {
   "codemirror_mode": {
    "name": "ipython",
    "version": 3
   },
   "file_extension": ".py",
   "mimetype": "text/x-python",
   "name": "python",
   "nbconvert_exporter": "python",
   "pygments_lexer": "ipython3",
   "version": "3.12.0"
  }
 },
 "nbformat": 4,
 "nbformat_minor": 5
}
